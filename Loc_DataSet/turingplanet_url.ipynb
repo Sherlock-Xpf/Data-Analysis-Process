{
 "cells": [
  {
   "cell_type": "markdown",
   "id": "996c9037-0aba-439e-9d68-0159dc933567",
   "metadata": {},
   "source": [
    "turingplanet dataset\n",
    "https://github.com/turingplanet/pandas-intro/tree/main/public-datasets\n",
    "\n",
    "country.csv\n",
    "country_info.csv\n",
    "irsv.csv\n",
    "pokemon.csv\n",
    "small_servery_result.csv\n",
    "servey_result_schema.cssv"
   ]
  },
  {
   "cell_type": "code",
   "execution_count": null,
   "id": "0c23f0d2-ab80-4e5a-ad1c-a6c624702779",
   "metadata": {},
   "outputs": [],
   "source": []
  }
 ],
 "metadata": {
  "kernelspec": {
   "display_name": "Python 3 (ipykernel)",
   "language": "python",
   "name": "python3"
  },
  "language_info": {
   "codemirror_mode": {
    "name": "ipython",
    "version": 3
   },
   "file_extension": ".py",
   "mimetype": "text/x-python",
   "name": "python",
   "nbconvert_exporter": "python",
   "pygments_lexer": "ipython3",
   "version": "3.9.12"
  },
  "vscode": {
   "interpreter": {
    "hash": "aee8b7b246df8f9039afb4144a1f6fd8d2ca17a180786b69acc140d282b71a49"
   }
  }
 },
 "nbformat": 4,
 "nbformat_minor": 5
}
