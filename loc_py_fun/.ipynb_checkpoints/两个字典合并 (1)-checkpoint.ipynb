{
 "cells": [
  {
   "cell_type": "markdown",
   "metadata": {},
   "source": [
    "两个字典合并\n",
    "case01:key不同的场景多用 update\n",
    "case02:"
   ]
  },
  {
   "cell_type": "code",
   "execution_count": 21,
   "metadata": {},
   "outputs": [
    {
     "name": "stdout",
     "output_type": "stream",
     "text": [
      "{'a': 11, 'b': 22, 'c': 48, 'd': 13}\n"
     ]
    }
   ],
   "source": [
    "\"\"\"\n",
    "适用合并两个字典（key不能相同否则会被覆盖）\n",
    "\"\"\"\n",
    "A = {'a': 11, 'b': 22}\n",
    "B = {'c': 48, 'd': 13}\n",
    "#update() 把字典B的键/值对更新到A里\n",
    "A.update(B)\n",
    "print(A)"
   ]
  },
  {
   "cell_type": "code",
   "execution_count": 23,
   "metadata": {},
   "outputs": [
    {
     "name": "stdout",
     "output_type": "stream",
     "text": [
      "{'a': 11, 'b': 22}\n"
     ]
    }
   ],
   "source": [
    "\"\"\"\n",
    "copy 不是很好用，需结合update\n",
    "\"\"\"\n",
    "dict1 = {'a': 11, 'b': 22}\n",
    "dict2 = {'c': 48, 'd': 13}\n",
    "\n",
    "dict3 = {}\n",
    "\n",
    "dict3 = dict1.copy()\n",
    "#dict3 = dict2.copy()\n",
    "\n",
    "print(dict3)"
   ]
  },
  {
   "cell_type": "code",
   "execution_count": 29,
   "metadata": {},
   "outputs": [
    {
     "name": "stdout",
     "output_type": "stream",
     "text": [
      "{'a': 11, 'b': 22, 'c': 48, 'd': 13}\n"
     ]
    },
    {
     "data": {
      "text/plain": [
       "{'a': 11, 'b': 22, 'c': 48, 'd': 13}"
      ]
     },
     "execution_count": 29,
     "metadata": {},
     "output_type": "execute_result"
    }
   ],
   "source": [
    "\"\"\"\n",
    "{**dict1, **dict2} python3.5 之后才支持\n",
    "\n",
    "多个字典可定义方法传入\n",
    "\"\"\"\n",
    "dict1 = {'a': 11, 'b': 22}\n",
    "dict2 = {'c': 48, 'd': 13}\n",
    "\n",
    "dict3 = {}\n",
    "\n",
    "dict3 = {**dict1, **dict2}\n",
    "print(dict3)\n",
    "\n",
    "## 多个字典定义方法\n",
    "def merge(dict1, dict2, dict3):\n",
    "    return {**dict1, **dict2, **dict3}\n",
    "\n",
    "merge(dict1, dict2, dict3)"
   ]
  },
  {
   "cell_type": "code",
   "execution_count": 26,
   "metadata": {},
   "outputs": [
    {
     "name": "stdout",
     "output_type": "stream",
     "text": [
      "{'b': 5, 'g': 3, 'd': 4, 'a': 12, 'f': 5, 'c': 3}\n"
     ]
    }
   ],
   "source": [
    "\"\"\"\n",
    "适用多种场合，多字典存在相同key需要合并相加的场景比较适用\n",
    "\"\"\"\n",
    "def sum_dict(a,b):\n",
    "  temp = dict()\n",
    "  # python3,dict_keys类似set； | 并集\n",
    "  for key in a.keys()| b.keys():\n",
    "    temp[key] = sum([d.get(key, 0) for d in (a, b)])\n",
    "  return temp\n",
    " \n",
    "def test():\n",
    "  #python3使用reduce需要先导入\n",
    "  from functools import reduce\n",
    "  #[a,b,c]列表中的参数可以2个也可以多个，自己尝试。\n",
    "  return print(reduce(sum_dict,[a,b,c]))\n",
    " \n",
    "a = {'a':1, 'b':2, 'c':3}\n",
    "b = {'a':1, 'b':3, 'd':4}\n",
    "c = {'g':3, 'f':5, 'a':10}\n",
    "test()"
   ]
  },
  {
   "cell_type": "code",
   "execution_count": null,
   "metadata": {},
   "outputs": [],
   "source": []
  }
 ],
 "metadata": {
  "kernelspec": {
   "display_name": "Python 3 (ipykernel)",
   "language": "python",
   "name": "python3"
  },
  "language_info": {
   "codemirror_mode": {
    "name": "ipython",
    "version": 3
   },
   "file_extension": ".py",
   "mimetype": "text/x-python",
   "name": "python",
   "nbconvert_exporter": "python",
   "pygments_lexer": "ipython3",
   "version": "3.9.12"
  }
 },
 "nbformat": 4,
 "nbformat_minor": 4
}
