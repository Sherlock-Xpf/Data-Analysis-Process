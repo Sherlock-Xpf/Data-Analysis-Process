{
 "cells": [
  {
   "cell_type": "markdown",
   "id": "4b29f938",
   "metadata": {},
   "source": []
  },
  {
   "cell_type": "code",
   "execution_count": 3,
   "id": "d289fa12",
   "metadata": {},
   "outputs": [
    {
     "name": "stdout",
     "output_type": "stream",
     "text": [
      "[1, 3, 5, 10, 100]\n"
     ]
    }
   ],
   "source": [
    "list1 = [1, 3, 5, 10, 100]\n",
    "print(list1)"
   ]
  },
  {
   "cell_type": "code",
   "execution_count": null,
   "id": "b94b0cec",
   "metadata": {},
   "outputs": [],
   "source": [
    "\n",
    "\n",
    "list01 = [1, 3, 4, 5, 7, 10, 100]\n",
    "for index in range(len(list01)):\n",
    "    print(list01[index])\n",
    "\n",
    "for elem in list01:\n",
    "    print(elem)\n",
    "\n",
    "for index, elem in enumerate(list01):\n",
    "    print (index,elem)"
   ]
  }
 ],
 "metadata": {
  "kernelspec": {
   "display_name": "Python 3 (ipykernel)",
   "language": "python",
   "name": "python3"
  },
  "language_info": {
   "codemirror_mode": {
    "name": "ipython",
    "version": 3
   },
   "file_extension": ".py",
   "mimetype": "text/x-python",
   "name": "python",
   "nbconvert_exporter": "python",
   "pygments_lexer": "ipython3",
   "version": "3.9.12"
  }
 },
 "nbformat": 4,
 "nbformat_minor": 5
}
