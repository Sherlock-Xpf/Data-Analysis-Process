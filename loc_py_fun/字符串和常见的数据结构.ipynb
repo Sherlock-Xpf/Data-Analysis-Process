{
 "cells": [
  {
   "cell_type": "markdown",
   "id": "c3827cf6",
   "metadata": {},
   "source": []
  },
  {
   "cell_type": "code",
   "execution_count": 3,
   "id": "e5bb051f",
   "metadata": {},
   "outputs": [
    {
     "name": "stdout",
     "output_type": "stream",
     "text": [
      "[1, 3, 5, 10, 100]\n"
     ]
    }
   ],
   "source": [
    "list1 = [1, 3, 5, 10, 100]\n",
    "print(list1)"
   ]
  },
  {
   "cell_type": "code",
   "execution_count": 13,
   "id": "9499a4b1",
   "metadata": {},
   "outputs": [
    {
     "name": "stdout",
     "output_type": "stream",
     "text": [
      "1\n",
      "3\n",
      "4\n",
      "5\n",
      "7\n",
      "10\n",
      "100\n",
      "==============================\n",
      "1\n",
      "3\n",
      "4\n",
      "5\n",
      "7\n",
      "10\n",
      "100\n",
      "==============================\n",
      "0 1\n",
      "1 3\n",
      "2 4\n",
      "3 5\n",
      "4 7\n",
      "5 10\n",
      "6 100\n"
     ]
    }
   ],
   "source": [
    "\n",
    "\n",
    "list01 = [1, 3, 4, 5, 7, 10, 100]\n",
    "for index in range(len(list01)):\n",
    "    print(list01[index])\n",
    "print('='*30)\n",
    "for elem in list01:\n",
    "    print(elem)\n",
    "    \n",
    "print('='*30)\n",
    "for index, elem in enumerate(list01):\n",
    "    print (index,elem)"
   ]
  }
 ],
 "metadata": {
  "kernelspec": {
   "display_name": "Python 3 (ipykernel)",
   "language": "python",
   "name": "python3"
  },
  "language_info": {
   "codemirror_mode": {
    "name": "ipython",
    "version": 3
   },
   "file_extension": ".py",
   "mimetype": "text/x-python",
   "name": "python",
   "nbconvert_exporter": "python",
   "pygments_lexer": "ipython3",
   "version": "3.9.12"
  }
 },
 "nbformat": 4,
 "nbformat_minor": 5
}
