{
 "cells": [
  {
   "cell_type": "markdown",
   "id": "9f8b9a16-9238-4443-bc10-af87d3fa806a",
   "metadata": {},
   "source": [
    "Python Array 和 Numpy Array 的区别?\n",
    "    - 处理数组更快：NumPy和Pandas的底层逻辑是用C语言写的，C这种底层语言自然能更快更有效率地调用电脑资源\n",
    "    - 处理数组更灵活：NumPy 库中提供更多处理 Array 的方式，比如合并分割数组、对数组进行统计计算等等"
   ]
  },
  {
   "cell_type": "code",
   "execution_count": 1,
   "id": "f45b3b39-3e82-4108-8548-c1658267b782",
   "metadata": {},
   "outputs": [],
   "source": [
    "import numpy as np"
   ]
  },
  {
   "cell_type": "code",
   "execution_count": 3,
   "id": "cca682fc-00bf-470c-ba81-e17103de8c76",
   "metadata": {},
   "outputs": [
    {
     "name": "stdout",
     "output_type": "stream",
     "text": [
      "[[ 0  1  2  3  4]\n",
      " [ 5  6  7  8  9]\n",
      " [10 11 12 13 14]]\n"
     ]
    }
   ],
   "source": [
    "a = np.arange(15).reshape(3, 5)\n",
    "print(a)"
   ]
  },
  {
   "cell_type": "code",
   "execution_count": 4,
   "id": "13b11bca-38b6-44f6-97fb-e552bf2fb10c",
   "metadata": {},
   "outputs": [
    {
     "data": {
      "text/plain": [
       "(3, 5)"
      ]
     },
     "execution_count": 4,
     "metadata": {},
     "output_type": "execute_result"
    }
   ],
   "source": [
    "a.shape"
   ]
  },
  {
   "cell_type": "code",
   "execution_count": 5,
   "id": "9f52ea69-0e6a-480f-a0b9-0d8fa7aab866",
   "metadata": {},
   "outputs": [
    {
     "data": {
      "text/plain": [
       "2"
      ]
     },
     "execution_count": 5,
     "metadata": {},
     "output_type": "execute_result"
    }
   ],
   "source": [
    "a.ndim"
   ]
  },
  {
   "cell_type": "code",
   "execution_count": 6,
   "id": "ad7448b8-3451-42d5-ab33-93487a43c657",
   "metadata": {},
   "outputs": [
    {
     "data": {
      "text/plain": [
       "'int64'"
      ]
     },
     "execution_count": 6,
     "metadata": {},
     "output_type": "execute_result"
    }
   ],
   "source": [
    "a.dtype.name"
   ]
  },
  {
   "cell_type": "code",
   "execution_count": 8,
   "id": "90e2c1b8-f78c-43bb-907f-b65a033fbb8d",
   "metadata": {},
   "outputs": [
    {
     "data": {
      "text/plain": [
       "8"
      ]
     },
     "execution_count": 8,
     "metadata": {},
     "output_type": "execute_result"
    }
   ],
   "source": [
    "a.itemsize"
   ]
  },
  {
   "cell_type": "code",
   "execution_count": 7,
   "id": "e4a191db-b348-4b59-9c48-6be51d1aad99",
   "metadata": {},
   "outputs": [
    {
     "data": {
      "text/plain": [
       "numpy.ndarray"
      ]
     },
     "execution_count": 7,
     "metadata": {},
     "output_type": "execute_result"
    }
   ],
   "source": [
    "type(a)"
   ]
  },
  {
   "cell_type": "code",
   "execution_count": 13,
   "id": "7aef3bac-1068-470f-bda0-2ef326b8af7e",
   "metadata": {
    "tags": []
   },
   "outputs": [
    {
     "data": {
      "text/plain": [
       "dtype('float64')"
      ]
     },
     "execution_count": 13,
     "metadata": {},
     "output_type": "execute_result"
    }
   ],
   "source": [
    "# array create\n",
    "\n",
    "b = np.array([2, 3, 5, 8])\n",
    "b"
   ]
  },
  {
   "cell_type": "code",
   "execution_count": null,
   "id": "0e3f1d5e-bea9-4322-b390-0e96bfd3776d",
   "metadata": {
    "tags": []
   },
   "outputs": [],
   "source": [
    "b.dtype\n"
   ]
  },
  {
   "cell_type": "code",
   "execution_count": 14,
   "id": "bb9e933d-245d-4881-ac4c-e92c2feb8b14",
   "metadata": {},
   "outputs": [
    {
     "data": {
      "text/plain": [
       "dtype('float64')"
      ]
     },
     "execution_count": 14,
     "metadata": {},
     "output_type": "execute_result"
    }
   ],
   "source": [
    "c = np.array([2.2 ,3.2 , 2.4])\n",
    "c\n",
    "c.dtype"
   ]
  },
  {
   "cell_type": "code",
   "execution_count": 15,
   "id": "b2c15ba7-3f75-40db-bffa-1ee3da479b1d",
   "metadata": {},
   "outputs": [
    {
     "data": {
      "text/plain": [
       "array([[0., 0., 0., 0.],\n",
       "       [0., 0., 0., 0.],\n",
       "       [0., 0., 0., 0.]])"
      ]
     },
     "execution_count": 15,
     "metadata": {},
     "output_type": "execute_result"
    }
   ],
   "source": [
    "np.zeros((3, 4))"
   ]
  },
  {
   "cell_type": "code",
   "execution_count": 16,
   "id": "f83aa7fa-da72-413e-9bfe-2b0bf02dc06b",
   "metadata": {},
   "outputs": [
    {
     "data": {
      "text/plain": [
       "array([[1, 1, 1, 1, 1],\n",
       "       [1, 1, 1, 1, 1]], dtype=int16)"
      ]
     },
     "execution_count": 16,
     "metadata": {},
     "output_type": "execute_result"
    }
   ],
   "source": [
    "np.ones((2, 5), dtype=np.int16)"
   ]
  },
  {
   "cell_type": "code",
   "execution_count": 17,
   "id": "5d24ade2-8024-44ad-a610-6a56d8f97908",
   "metadata": {},
   "outputs": [
    {
     "data": {
      "text/plain": [
       "array([[-2.00000000e+000, -2.00000000e+000,  1.48219694e-323],\n",
       "       [ 0.00000000e+000,  0.00000000e+000,  4.17201348e-309]])"
      ]
     },
     "execution_count": 17,
     "metadata": {},
     "output_type": "execute_result"
    }
   ],
   "source": [
    "np.empty((2, 3))"
   ]
  },
  {
   "cell_type": "code",
   "execution_count": 19,
   "id": "1bd96e1d-8908-480b-977f-2c494b36bac5",
   "metadata": {},
   "outputs": [
    {
     "data": {
      "text/plain": [
       "array([10, 15, 20, 25, 30, 35])"
      ]
     },
     "execution_count": 19,
     "metadata": {},
     "output_type": "execute_result"
    }
   ],
   "source": [
    "np.arange(10, 40, 5)"
   ]
  },
  {
   "cell_type": "code",
   "execution_count": 20,
   "id": "11e48b4c-0aca-4d17-a2f6-a97f68d3990f",
   "metadata": {},
   "outputs": [
    {
     "data": {
      "text/plain": [
       "array([0.2, 0.5, 0.8, 1.1, 1.4, 1.7, 2. , 2.3, 2.6, 2.9, 3.2, 3.5, 3.8])"
      ]
     },
     "execution_count": 20,
     "metadata": {},
     "output_type": "execute_result"
    }
   ],
   "source": [
    "np.arange(0.2 , 4, 0.3)"
   ]
  },
  {
   "cell_type": "code",
   "execution_count": null,
   "id": "a22c89b4-d02d-44f7-b6ac-69a0642ee0f0",
   "metadata": {},
   "outputs": [],
   "source": []
  }
 ],
 "metadata": {
  "kernelspec": {
   "display_name": "Python 3 (ipykernel)",
   "language": "python",
   "name": "python3"
  },
  "language_info": {
   "codemirror_mode": {
    "name": "ipython",
    "version": 3
   },
   "file_extension": ".py",
   "mimetype": "text/x-python",
   "name": "python",
   "nbconvert_exporter": "python",
   "pygments_lexer": "ipython3",
   "version": "3.9.12"
  }
 },
 "nbformat": 4,
 "nbformat_minor": 5
}
