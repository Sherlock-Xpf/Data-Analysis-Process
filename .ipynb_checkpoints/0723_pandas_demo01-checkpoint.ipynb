{
 "cells": [
  {
   "cell_type": "code",
   "execution_count": null,
   "id": "75356608-c659-4de8-bb24-7bcf1be34c4d",
   "metadata": {},
   "outputs": [],
   "source": [
    "import numpy as np\n",
    "import pandas as pd\n",
    "\n",
    "data_dict = [{\n",
    "    \"name\":\"zhangshan\",\n",
    "    \"age\":\"24\"\n",
    "}]\n",
    "\n",
    "data_dict.pd "
   ]
  },
  {
   "cell_type": "code",
   "execution_count": null,
   "id": "2c538133-edf5-44f6-8b84-e9af2bd1b58b",
   "metadata": {},
   "outputs": [],
   "source": []
  }
 ],
 "metadata": {
  "kernelspec": {
   "display_name": "Python 3 (ipykernel)",
   "language": "python",
   "name": "python3"
  },
  "language_info": {
   "codemirror_mode": {
    "name": "ipython",
    "version": 3
   },
   "file_extension": ".py",
   "mimetype": "text/x-python",
   "name": "python",
   "nbconvert_exporter": "python",
   "pygments_lexer": "ipython3",
   "version": "3.9.12"
  }
 },
 "nbformat": 4,
 "nbformat_minor": 5
}
